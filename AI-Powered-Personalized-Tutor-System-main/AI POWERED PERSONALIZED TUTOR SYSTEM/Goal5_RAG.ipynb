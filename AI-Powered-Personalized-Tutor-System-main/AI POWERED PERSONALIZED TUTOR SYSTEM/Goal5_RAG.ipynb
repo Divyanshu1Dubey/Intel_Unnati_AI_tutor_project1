{
 "cells": [
  {
   "cell_type": "code",
   "execution_count": 1,
   "metadata": {},
   "outputs": [
    {
     "name": "stderr",
     "output_type": "stream",
     "text": [
      "c:\\Users\\atanu\\.conda\\envs\\AtanuAI\\lib\\site-packages\\tqdm\\auto.py:21: TqdmWarning: IProgress not found. Please update jupyter and ipywidgets. See https://ipywidgets.readthedocs.io/en/stable/user_install.html\n",
      "  from .autonotebook import tqdm as notebook_tqdm\n"
     ]
    },
    {
     "name": "stdout",
     "output_type": "stream",
     "text": [
      "WARNING:tensorflow:From c:\\Users\\atanu\\.conda\\envs\\AtanuAI\\lib\\site-packages\\tf_keras\\src\\losses.py:2976: The name tf.losses.sparse_softmax_cross_entropy is deprecated. Please use tf.compat.v1.losses.sparse_softmax_cross_entropy instead.\n",
      "\n"
     ]
    }
   ],
   "source": [
    "import fitz  # PyMuPDF\n",
    "import numpy as np\n",
    "from sentence_transformers import SentenceTransformer, CrossEncoder\n",
    "import faiss\n",
    "import pickle"
   ]
  },
  {
   "cell_type": "code",
   "execution_count": 2,
   "metadata": {},
   "outputs": [],
   "source": [
    "# PDF to Text Extraction\n",
    "def extract_text_from_pdf(pdf_path):\n",
    "    doc = fitz.open(pdf_path)\n",
    "    text = \"\"\n",
    "    for page in doc:\n",
    "        text += page.get_text()\n",
    "    return text.strip()"
   ]
  },
  {
   "cell_type": "code",
   "execution_count": 3,
   "metadata": {},
   "outputs": [],
   "source": [
    "# Text Chunking with Overlapping\n",
    "def chunk_text(text, chunk_size=512, overlap=100):\n",
    "    chunks = []\n",
    "    i = 0\n",
    "    while i < len(text):\n",
    "        chunks.append(text[i:i+chunk_size])\n",
    "        i += chunk_size - overlap\n",
    "    return chunks"
   ]
  },
  {
   "cell_type": "code",
   "execution_count": 4,
   "metadata": {},
   "outputs": [],
   "source": [
    "# Embedding and FAISS Indexing\n",
    "def create_faiss_index(chunks, model):\n",
    "    embeddings = model.encode(chunks, convert_to_tensor=True).cpu().numpy()\n",
    "    dimension = embeddings.shape[1]\n",
    "\n",
    "    index = faiss.IndexFlatL2(dimension)\n",
    "    index.add(np.array(embeddings))\n",
    "\n",
    "    return index, embeddings"
   ]
  },
  {
   "cell_type": "code",
   "execution_count": 5,
   "metadata": {},
   "outputs": [
    {
     "name": "stdout",
     "output_type": "stream",
     "text": [
      "\n",
      "Extracting text from PDF...\n",
      "\n",
      "Chunking and Embedding...\n",
      "\n",
      "Saving index, embeddings, and chunks to 'pdf_index.pkl'...\n",
      "\n",
      "✅ Indexing completed and saved successfully!\n"
     ]
    }
   ],
   "source": [
    "\n",
    "# Main Execution Flow\n",
    "if __name__ == \"__main__\":\n",
    "    pdf_path = input(\"Enter the path of the PDF file: \")\n",
    "\n",
    "    # Extract text\n",
    "    print(\"\\nExtracting text from PDF...\")\n",
    "    text = extract_text_from_pdf(pdf_path)\n",
    "\n",
    "    # Chunk and embed\n",
    "    print(\"\\nChunking and Embedding...\")\n",
    "    model = SentenceTransformer('all-MiniLM-L6-v2')\n",
    "    chunks = chunk_text(text)\n",
    "    \n",
    "    index, embeddings = create_faiss_index(chunks, model)\n",
    "\n",
    "    # Save to .pkl file\n",
    "    print(\"\\nSaving index, embeddings, and chunks to 'pdf_index.pkl'...\")\n",
    "    with open(\"pdf_index.pkl\", \"wb\") as f:\n",
    "        pickle.dump((index, embeddings, chunks), f)\n",
    "\n",
    "    print(\"\\n✅ Indexing completed and saved successfully!\")\n"
   ]
  },
  {
   "cell_type": "code",
   "execution_count": null,
   "metadata": {},
   "outputs": [],
   "source": []
  }
 ],
 "metadata": {
  "kernelspec": {
   "display_name": "AtanuAI",
   "language": "python",
   "name": "python3"
  },
  "language_info": {
   "codemirror_mode": {
    "name": "ipython",
    "version": 3
   },
   "file_extension": ".py",
   "mimetype": "text/x-python",
   "name": "python",
   "nbconvert_exporter": "python",
   "pygments_lexer": "ipython3",
   "version": "3.10.16"
  }
 },
 "nbformat": 4,
 "nbformat_minor": 2
}
